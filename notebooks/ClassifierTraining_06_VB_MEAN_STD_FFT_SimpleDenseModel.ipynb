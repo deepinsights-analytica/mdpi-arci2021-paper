{
 "cells": [
  {
   "cell_type": "markdown",
   "metadata": {},
   "source": [
    "<span style=\"color:gray\">\n",
    "Copyright &copy; 2020-2021 by Fraunhofer-Gesellschaft. All rights reserved.<br>\n",
    "Fraunhofer Institute for Integrated Circuits IIS, Division Engineering of Adaptive Systems EAS<br>\n",
    "Zeunerstraße 38, 01069 Dresden, Germany\n",
    "</span>\n",
    "\n",
    "---\n",
    "\n",
    "# Condition Monitoring of Drive Trains by Data Fusion of Acoustic Emission and Vibration Sensors\n",
    "\n",
    "### Oliver Mey, André Schneider, Olaf Enge-Rosenblatt, Dirk Mayer, Christian Schmidt, Samuel Klein and Hans-Georg Herrmann\n",
    "\n",
    "---\n",
    "\n",
    "## Notebook *ClassifierTraining_06_VB_MEAN_STD_FFT_SimpleDenseModel*\n",
    "\n",
    "This notebook demonstrates the training of a classification model based on a simple dense model. For the classification the Vibration signals are used.  \n",
    "\n",
    "---\n",
    "\n",
    "<span style=\"color:gray\">\n",
    "Version: 1.1.3 (June 14, 2021) <br>\n",
    "Authors: André Schneider, Oliver Mey \n",
    " </span>"
   ]
  },
  {
   "cell_type": "code",
   "execution_count": 1,
   "metadata": {},
   "outputs": [],
   "source": [
    "import warnings\n",
    "warnings.filterwarnings('ignore')\n",
    "\n",
    "import os\n",
    "import sys\n",
    "import numpy as np\n",
    "import pandas as pd\n",
    "import urllib, json\n",
    "import seaborn as sns\n",
    "import colorcet as cc\n",
    "import tensorflow as tf\n",
    "import scipy as sc\n",
    "import matplotlib.pyplot as plt\n",
    "import matplotlib.ticker as ticker\n",
    "\n",
    "from glob import glob\n",
    "from itertools import chain\n",
    "from matplotlib.cbook import flatten\n",
    "from sklearn.model_selection import train_test_split\n",
    "from sklearn.preprocessing import RobustScaler, OneHotEncoder\n",
    "\n",
    "from tensorflow.keras.models import load_model, Model\n",
    "from tensorflow.keras.layers import Input, Dense, LeakyReLU, Softmax, concatenate, Dropout\n",
    "from tensorflow.keras.optimizers import Adam\n",
    "from tensorflow.keras.utils import plot_model\n",
    "from tensorflow.keras.callbacks import ModelCheckpoint\n",
    "\n",
    "sns.set(rc={'figure.figsize':(16, 4)})"
   ]
  },
  {
   "cell_type": "code",
   "execution_count": 2,
   "metadata": {},
   "outputs": [],
   "source": [
    "project = 'SkaliSens_07'\n",
    "experiment = 'ClassifierTraining_06'\n",
    "approach = 'VB_MEAN_STD_FFT_SimpleDenseModel'\n",
    "revision = '$Id$'"
   ]
  },
  {
   "cell_type": "markdown",
   "metadata": {},
   "source": [
    "## Configuration\n",
    "\n",
    "The *path* must specify the directory into which the Fordatis data set was downloaded and unpacked.\n",
    "\n",
    "This notebook demonstrates the classification based on the measured Acoustic Emission signals. 29 measurement series are available. 22 series (see masks, ['1\\*1', '3\\*']) are used for the training and test of the classification model. 7 series (['1\\*2']) are used for the evaluation of the trained model."
   ]
  },
  {
   "cell_type": "code",
   "execution_count": 3,
   "metadata": {},
   "outputs": [],
   "source": [
    "path = 'fordatis'\n",
    "masks = ['1*1', '3*2']\n",
    "masks_evaluate = ['1*2']\n",
    "speeds = [600, 1000]\n",
    "labels = ['None', 'Inner', 'Outer', 'Balls']\n",
    "sensors = ['vb', 'w']\n",
    "frequencies = [8192.0, 0.0]\n",
    "crop = [[10.0, 2000.0], [0.0, 0.0]]"
   ]
  },
  {
   "cell_type": "code",
   "execution_count": 4,
   "metadata": {},
   "outputs": [],
   "source": [
    "f_vb = np.linspace(0.0, frequencies[0]/2,int(frequencies[0]/2)+1)\n",
    "i1 = np.argwhere(f_vb >= crop[0][0])[0][0]\n",
    "i2 = np.argwhere(f_vb <= crop[0][1])[-1][0]\n",
    "inputs_vb = i2 - i1\n",
    "inputs_w = 1\n",
    "crop_vb = [slice(None, None),slice(i1, i2)]\n",
    "crop_w = [slice(None, None),slice(None, None)]\n",
    "crops = {'vb':crop_vb, 'w':crop_w}"
   ]
  },
  {
   "cell_type": "markdown",
   "metadata": {},
   "source": [
    "## Function Definitions for Feature Extraction"
   ]
  },
  {
   "cell_type": "markdown",
   "metadata": {},
   "source": [
    "#### Utility Function"
   ]
  },
  {
   "cell_type": "code",
   "execution_count": 5,
   "metadata": {},
   "outputs": [],
   "source": [
    "def fir_(y, u, nb):\n",
    "    N = y.size - nb -1\n",
    "    phi = np.zeros(nb)\n",
    "    PHI = np.zeros((N, nb))\n",
    "    for i in range(N):\n",
    "        phi[0:nb] = u[nb+i:i:-1]\n",
    "        PHI[i, :] = phi\n",
    "    W = np.dot(np.linalg.pinv(PHI.T @ PHI), PHI.T @ y[nb+1:])\n",
    "    return W\n",
    "\n",
    "def wiener_(df, f_remove, fps, duration, A=1, order=2):\n",
    "    t = np.linspace(0,duration, int(fps*duration))\n",
    "    X = df.values\n",
    "    for fc in f_remove:\n",
    "        for i in range(X.shape[0]):\n",
    "            u = A * np.sin(2 * np.pi * fc * t / duration)\n",
    "            W = fir_(X[i,:], u, order)\n",
    "            ym = np.zeros(order)\n",
    "            yout  = np.zeros_like(X[i,:])\n",
    "            for k, _ in enumerate(u):\n",
    "                yout[k] = np.dot(W, ym)\n",
    "                ym = np.hstack((np.array(u[k]), ym[0:-1]))\n",
    "            X[i,:]=X[i,:] - yout\n",
    "    df_out = df.copy()\n",
    "    df_out.iloc[:,:] = X\n",
    "    return df_out"
   ]
  },
  {
   "cell_type": "markdown",
   "metadata": {},
   "source": [
    "#### Functions for Feature Extraction Pipeline"
   ]
  },
  {
   "cell_type": "code",
   "execution_count": 6,
   "metadata": {},
   "outputs": [],
   "source": [
    "def shrink(X, P=None):\n",
    "    speeds = P[0]['speeds']\n",
    "    X[1].columns = ['w']\n",
    "    T = [X[1][X[1]['w'] == speed].index.to_numpy() for speed in speeds]\n",
    "    X[0] = pd.concat([X[0][X[0].index.to_series().between(t[0], t[1])] for t in T])\n",
    "    return X\n",
    "\n",
    "def bessel(X, P=None):\n",
    "    b, a = sc.signal.bessel(N=4, Wn=5, btype='highpass', analog=False, norm='phase', fs=frequencies[0])\n",
    "    x = X[0].copy()\n",
    "    x = sc.signal.filtfilt(b,a,x.values.flatten()).reshape(-1, int(frequencies[0]))\n",
    "    X[0] = pd.DataFrame(x, index=X[0].index)\n",
    "    return X\n",
    "\n",
    "def wiener(X, P=None):\n",
    "    x = X[0].copy()\n",
    "    f_remove = [50, 100, 200, 300, 400, 500]\n",
    "    duration = 1.0\n",
    "    x = wiener_(x, f_remove, frequencies[0], duration)\n",
    "    x.index = X[0].index\n",
    "    X[0] = x    \n",
    "    return X\n",
    "\n",
    "def mean_std_fft_crop(X, P=None):\n",
    "    X_ = [X[0]]\n",
    "    P_ = [P[0]]\n",
    "    mean = [x.mean(axis=1) for x in X_]\n",
    "    std = [x.std(axis=1) for x in X_]\n",
    "    X_ = [pd.DataFrame(np.abs(np.fft.rfft(x)), index=x.index) for x in X_]\n",
    "    for x in X_: x[0]=0\n",
    "    crops = [(p['rows'], p['columns']) for p in P_]\n",
    "    X_ = [x.iloc[crop] for x,crop in zip(X_,crops)]\n",
    "    for i in [0]:\n",
    "        X_[i]['mean'+str(i)] = mean[i].values\n",
    "        X_[i]['std'+str(i)] = std[i].values\n",
    "    X[0] = X_[0]\n",
    "    return X"
   ]
  },
  {
   "cell_type": "markdown",
   "metadata": {},
   "source": [
    "## Function Definitions for Data Preparation and Model Training"
   ]
  },
  {
   "cell_type": "code",
   "execution_count": 7,
   "metadata": {},
   "outputs": [],
   "source": [
    "def setup(path, masks):\n",
    "    files = [sorted(glob(path + '/data/' + mask)) for mask in masks]\n",
    "    files = list(chain(*files))\n",
    "    measurements = [os.path.basename(str(file)) for file in files]\n",
    "    descriptors = [pd.read_json(path + '/measurements/' + measurement + '.json') \n",
    "                   for measurement in measurements]\n",
    "    usecases = [labels.index(descriptor.loc['usecasegroup', 'measurement']) \n",
    "                for descriptor in descriptors]\n",
    "    return measurements, usecases\n",
    "\n",
    "def load_samples(path, measurement, sensor):\n",
    "    samples = pd.read_csv(path + '/data/' + measurement + '/' + sensor + '.csv', \n",
    "                   parse_dates=[0], index_col=0, sep=' ', header=None)\n",
    "    samples.index = samples.index.values.astype('datetime64[us]')\n",
    "    return samples\n",
    "\n",
    "def extract_features(X, F, P):\n",
    "    for f in F: X = [f(x,p) for x,p in zip(X,P)]\n",
    "    return X\n",
    "\n",
    "def split(X, U, ratios=[0.8, 0.2]):\n",
    "    N = [x[0].shape[0] for x in X]\n",
    "    y = [pd.DataFrame(np.ones(n)*u, index=x[0].index, dtype=np.int8) for n,u,x in zip(N,U,X)]\n",
    "    y = pd.concat(y).sort_index()\n",
    "    X = [pd.concat([x[i] for x in X]).sort_index() for i in range(len(X[0]))]\n",
    "    I = np.random.permutation(len(X[0]))\n",
    "    ratios = np.cumsum(list(flatten([0.0, ratios])))\n",
    "    IX = [int(ratio*len(I)) for ratio in ratios]\n",
    "    II = [I[IX[i]:IX[i+1]] for i in range(len(IX)-1)]\n",
    "    return X, y, II\n",
    "\n",
    "def encode(y):\n",
    "    encoder = OneHotEncoder(sparse=False)\n",
    "    encoder.fit(y.to_numpy().reshape(-1, 1))\n",
    "    y = pd.DataFrame(encoder.transform(y.to_numpy().reshape(-1, 1)), index=y.index)\n",
    "    return y\n",
    "    \n",
    "def scale(X, y, I, scalers=None):\n",
    "    X0 = X[0].iloc[I,:]\n",
    "    T = X0.index.floor('s')\n",
    "    X1 = X[1][X[1].index.isin(T)]\n",
    "    if scalers==None:\n",
    "        scalers = [RobustScaler(quantile_range=(5,95)).fit(x) for x in [X0, X1]]\n",
    "    X = [pd.DataFrame(scaler.transform(x), index=x.index) for scaler,x in zip(scalers, X)]\n",
    "    return X, y, scalers\n",
    "\n",
    "def generate(X, y, I, batch_size=-1, join=True):    \n",
    "    k = 0\n",
    "    while True:\n",
    "        if batch_size > 0:\n",
    "            batch_range = [i%len(I) for i in range(k*batch_size,(k+1)*batch_size)]\n",
    "        else:\n",
    "            batch_range = slice(None, None)\n",
    "        X0 = X[0].iloc[I[batch_range]]\n",
    "        yy = y.iloc[I[batch_range]]\n",
    "        T = X0.index.floor('s')\n",
    "        X1 = X[1].iloc[[X[1].index.get_loc(t, method='ffill') for t in T], 0].to_frame()\n",
    "        yy = yy.to_numpy(dtype=np.int)\n",
    "        if join:\n",
    "            XX = np.concatenate([x.to_numpy() for x in [X0, X1]], axis=1)\n",
    "        else:\n",
    "            XX = [x.to_numpy() for x in [X0, X1]]\n",
    "            yy = [yy, yy]\n",
    "        k = k+1                 \n",
    "        yield XX, yy\n",
    "    return\n",
    "\n",
    "def prepare(path, masks='*', sensors=[], functions=[], ratios=[0.8, 0.2], scalers=None):\n",
    "    measurements, usecases = setup(path, masks)\n",
    "    parameters = [[dict([('rows', crops[sensor][0]), ('columns', crops[sensor][1]),\n",
    "               ('speeds', speeds)]) for sensor in sensors] for measurement in measurements]\n",
    "    samples = [[load_samples(path, measurement, sensor) for sensor in sensors] \n",
    "               for measurement in measurements]\n",
    "    X = extract_features(samples, functions, parameters)\n",
    "    X, y, I = split(X, usecases, ratios)\n",
    "    X, y, scalers = scale(X, y, I[0], scalers)\n",
    "    y = encode(y)\n",
    "    return X, y, I, scalers\n",
    "\n",
    "def create_model(X):\n",
    "    n_layers_vb = 2\n",
    "    n_inputs_vb = inputs_vb + 2\n",
    "    n_inputs_w = inputs_w\n",
    "\n",
    "    X_in_vb = Input(shape=(n_inputs_vb,), name=\"vb_input\")\n",
    "    x = X_in_vb\n",
    "    for j in range(n_layers_vb):\n",
    "        x = Dense(units = 1024, activation=\"linear\", name='vb_dense_'+str(j))(x)\n",
    "        x = LeakyReLU(alpha=0.05, name='vb_relu_'+str(j))(x)\n",
    "        x = Dropout(rate=0.2, name='vb_dropout_'+str(j))(x)\n",
    "    X_out_vb_pre = Dense(units = 4, activation = 'linear', name=\"vb_output_before_activation\")(x)\n",
    "    X_out_vb = Softmax(name=\"vb_output\")(X_out_vb_pre)    \n",
    "    model = Model(X_in_vb, X_out_vb)\n",
    "    \n",
    "    model.compile(optimizer = Adam(lr=0.0005), loss = 'categorical_crossentropy', \n",
    "                     metrics = ['accuracy'])\n",
    "    model.summary()\n",
    "    return model\n",
    "\n",
    "def train_model(X, y, I, model):\n",
    "    X_train, y_train = next(generate(X, y, I[0]))\n",
    "    X_test, y_test = next(generate(X, y, I[1]))\n",
    "    X_train_vb = X_train[:,:inputs_vb+2]\n",
    "    X_test_vb = X_test[:,:inputs_vb+2]\n",
    "    \n",
    "    checkpoint = ModelCheckpoint('./model_vb_06.h5', monitor='val_accuracy', verbose=1,\n",
    "                                 save_best_only=True, mode='max')\n",
    "    model.fit(X_train_vb, y_train, epochs = 10, batch_size = 32, \n",
    "                 validation_data=(X_test_vb, y_test))\n",
    "    return model\n",
    "\n",
    "def plot_results(y, y_predict):\n",
    "    confusion = tf.math.confusion_matrix(labels=tf.argmax(y,1),\n",
    "                                         predictions=tf.argmax(y_predict,1))\n",
    "    confusion = tf.make_ndarray(tf.make_tensor_proto(confusion))\n",
    "    cm = pd.DataFrame(confusion, index = [\"None\", \"Inner\", \"Outer\", \"Ball\"],\n",
    "                      columns = [\"None\", \"Inner\", \"Outer\", \"Ball\"])\n",
    "    fig=plt.figure(figsize = (10,8))\n",
    "    sns.heatmap(cm/np.sum(cm, axis=1).values.reshape(-1,1), annot=True, fmt='.2%', cmap='Blues')\n",
    "    plt.ylabel(\"Actual Labels\")\n",
    "    plt.xlabel(\"Predicted Labels\")\n",
    "    plt.show()\n",
    "    return"
   ]
  },
  {
   "cell_type": "markdown",
   "metadata": {},
   "source": [
    "## Data Aggregation and Feature Extraction"
   ]
  },
  {
   "cell_type": "markdown",
   "metadata": {},
   "source": [
    "#### Feature Extraction Pipeline"
   ]
  },
  {
   "cell_type": "code",
   "execution_count": 8,
   "metadata": {},
   "outputs": [],
   "source": [
    "functions = [shrink, mean_std_fft_crop]"
   ]
  },
  {
   "cell_type": "markdown",
   "metadata": {},
   "source": [
    "#### Data for Training & Test"
   ]
  },
  {
   "cell_type": "code",
   "execution_count": 9,
   "metadata": {},
   "outputs": [],
   "source": [
    "X, y, I, scalers = prepare(path, masks, sensors, functions, ratios=[0.8, 0.2])"
   ]
  },
  {
   "cell_type": "markdown",
   "metadata": {},
   "source": [
    "#### Data for Evaluation"
   ]
  },
  {
   "cell_type": "code",
   "execution_count": 10,
   "metadata": {},
   "outputs": [],
   "source": [
    "X_, y_, I_, _ = prepare(path, masks_evaluate, sensors, functions, ratios=[1.0], scalers=scalers)"
   ]
  },
  {
   "cell_type": "code",
   "execution_count": 11,
   "metadata": {},
   "outputs": [],
   "source": [
    "X_evaluate, y_evaluate = next(generate(X_, y_, I_[0], join=False))"
   ]
  },
  {
   "cell_type": "markdown",
   "metadata": {},
   "source": [
    "## Creating and Compiling the Model Structure"
   ]
  },
  {
   "cell_type": "code",
   "execution_count": 12,
   "metadata": {},
   "outputs": [
    {
     "name": "stdout",
     "output_type": "stream",
     "text": [
      "Model: \"model\"\n",
      "_________________________________________________________________\n",
      "Layer (type)                 Output Shape              Param #   \n",
      "=================================================================\n",
      "vb_input (InputLayer)        [(None, 1992)]            0         \n",
      "_________________________________________________________________\n",
      "vb_dense_0 (Dense)           (None, 1024)              2040832   \n",
      "_________________________________________________________________\n",
      "vb_relu_0 (LeakyReLU)        (None, 1024)              0         \n",
      "_________________________________________________________________\n",
      "vb_dropout_0 (Dropout)       (None, 1024)              0         \n",
      "_________________________________________________________________\n",
      "vb_dense_1 (Dense)           (None, 1024)              1049600   \n",
      "_________________________________________________________________\n",
      "vb_relu_1 (LeakyReLU)        (None, 1024)              0         \n",
      "_________________________________________________________________\n",
      "vb_dropout_1 (Dropout)       (None, 1024)              0         \n",
      "_________________________________________________________________\n",
      "vb_output_before_activation  (None, 4)                 4100      \n",
      "_________________________________________________________________\n",
      "vb_output (Softmax)          (None, 4)                 0         \n",
      "=================================================================\n",
      "Total params: 3,094,532\n",
      "Trainable params: 3,094,532\n",
      "Non-trainable params: 0\n",
      "_________________________________________________________________\n"
     ]
    }
   ],
   "source": [
    "model = create_model(X)"
   ]
  },
  {
   "cell_type": "code",
   "execution_count": 13,
   "metadata": {},
   "outputs": [
    {
     "data": {
      "image/png": "[encoded data removed]",
      "text/plain": [
       "<IPython.core.display.Image object>"
      ]
     },
     "execution_count": 13,
     "metadata": {},
     "output_type": "execute_result"
    }
   ],
   "source": [
    "plot_model(model)"
   ]
  },
  {
   "cell_type": "markdown",
   "metadata": {},
   "source": [
    "## Training of the Model Using the Training&Test Data"
   ]
  },
  {
   "cell_type": "code",
   "execution_count": null,
   "metadata": {
    "scrolled": false
   },
   "outputs": [],
   "source": [
    "model = train_model(X, y, I, model)"
   ]
  },
  {
   "cell_type": "markdown",
   "metadata": {},
   "source": [
    "## Evaluation of the Trained Model Using the Evaluation Data"
   ]
  },
  {
   "cell_type": "code",
   "execution_count": 15,
   "metadata": {},
   "outputs": [],
   "source": [
    "y_predict = model.predict(X_evaluate[0])"
   ]
  },
  {
   "cell_type": "markdown",
   "metadata": {},
   "source": [
    "## Classification Results"
   ]
  },
  {
   "cell_type": "code",
   "execution_count": 16,
   "metadata": {
    "scrolled": false
   },
   "outputs": [
    {
     "data": {
      "image/png": "[encoded data removed]",
      "text/plain": [
       "<Figure size 720x576 with 2 Axes>"
      ]
     },
     "metadata": {},
     "output_type": "display_data"
    }
   ],
   "source": [
    "plot_results(y_evaluate[0], y_predict)"
   ]
  },
  {
   "cell_type": "code",
   "execution_count": null,
   "metadata": {},
   "outputs": [],
   "source": []
  }
 ],
 "metadata": {
  "kernelspec": {
   "display_name": "Python 3",
   "language": "python",
   "name": "python3"
  },
  "language_info": {
   "codemirror_mode": {
    "name": "ipython",
    "version": 3
   },
   "file_extension": ".py",
   "mimetype": "text/x-python",
   "name": "python",
   "nbconvert_exporter": "python",
   "pygments_lexer": "ipython3",
   "version": "3.8.5"
  }
 },
 "nbformat": 4,
 "nbformat_minor": 2
}
